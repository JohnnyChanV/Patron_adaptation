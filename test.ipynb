{
 "cells": [
  {
   "cell_type": "code",
   "execution_count": 11,
   "outputs": [
    {
     "data": {
      "text/plain": "array([[2.1509616e-06, 3.8872162e-07, 2.0651016e-05, 3.5327579e-05],\n       [1.8328343e-05, 6.5573963e-06, 3.9672024e-05, 1.2990477e-04],\n       [6.1244165e-05, 6.1534524e-06, 3.2524669e-05, 1.0022823e-04],\n       ...,\n       [4.6683912e-05, 1.0210098e-05, 1.0127267e-04, 8.7385670e-06],\n       [2.8003249e-05, 6.8098593e-06, 2.6011245e-05, 2.1512935e-05],\n       [1.2605391e-05, 1.4432642e-04, 1.8013561e-05, 6.3552634e-06]],\n      dtype=float32)"
     },
     "execution_count": 11,
     "metadata": {},
     "output_type": "execute_result"
    }
   ],
   "source": [
    "import pickle\n",
    "import numpy as np\n",
    "\n",
    "data = np.load('pickles/pred_unlabeled_roberta-base.npy')\n",
    "data\n",
    "\n",
    "\n"
   ],
   "metadata": {
    "collapsed": false,
    "ExecuteTime": {
     "end_time": "2025-09-05T20:02:59.557174Z",
     "start_time": "2025-09-05T20:02:59.544436Z"
    }
   }
  },
  {
   "cell_type": "code",
   "execution_count": 22,
   "outputs": [],
   "source": [
    "import json\n",
    "data = json.load(open('../PromptTuning/entropy_log/Test-Llama-3B-All-1799-log.json'))\n",
    "probs = np.array(data['train_eval'][0]['pred_probs'])\n",
    "probs.dump(open('../Patron/pickles/pred_unlabeled_llama-8b.npy','wb'))"
   ],
   "metadata": {
    "collapsed": false,
    "ExecuteTime": {
     "end_time": "2025-09-05T20:40:49.231581Z",
     "start_time": "2025-09-05T20:40:49.226629Z"
    }
   }
  },
  {
   "cell_type": "code",
   "execution_count": 24,
   "outputs": [],
   "source": [
    "import json\n",
    "corpus = json.load(open(\"../data/data_proc/proc_dev_data.json\"))"
   ],
   "metadata": {
    "collapsed": false,
    "ExecuteTime": {
     "end_time": "2025-09-05T20:43:18.789553Z",
     "start_time": "2025-09-05T20:43:18.782624Z"
    }
   }
  },
  {
   "cell_type": "code",
   "execution_count": 32,
   "outputs": [],
   "source": [
    "with open('../Patron/pickles/proc_dev_data.jsonl', 'a', encoding='utf-8') as f:\n",
    "    for item in corpus:\n",
    "        formatted_item = {\n",
    "            '_id':item['label'],\n",
    "            'text':item['Comment']\n",
    "        }\n",
    "        json.dump(formatted_item,f)\n",
    "        f.write('\\n')  # 手动换行\n",
    "\n",
    "\n",
    "\n",
    "\n"
   ],
   "metadata": {
    "collapsed": false,
    "ExecuteTime": {
     "end_time": "2025-09-05T20:49:49.621012Z",
     "start_time": "2025-09-05T20:49:49.605427Z"
    }
   }
  },
  {
   "cell_type": "code",
   "execution_count": 34,
   "outputs": [],
   "source": [],
   "metadata": {
    "collapsed": false,
    "ExecuteTime": {
     "end_time": "2025-09-05T21:21:45.506Z",
     "start_time": "2025-09-05T21:21:45.497041Z"
    }
   }
  },
  {
   "cell_type": "code",
   "execution_count": 73,
   "outputs": [],
   "source": [
    "selected_idx = json.load(open('pickles/train_idx_roberta-base_round1_rho0.01_gamma0.5_beta0.5_mu0.5_500.json'))\n",
    "# selected_idx1 = json.load(open('pickles/train_idx_roberta-base_round1_rho0.01_gamma0.5_beta0.5_mu0.5_500.json'))\n",
    "\n",
    "selected_data = []\n",
    "for idx in selected_idx:\n",
    "    selected_data.append(corpus[idx])\n",
    "\n",
    "json.dump(selected_data,open('../data/data_proc/patron_selection/500.json','w'))"
   ],
   "metadata": {
    "collapsed": false,
    "ExecuteTime": {
     "end_time": "2025-09-06T02:12:58.745217Z",
     "start_time": "2025-09-06T02:12:58.740366Z"
    }
   }
  },
  {
   "cell_type": "code",
   "execution_count": 64,
   "outputs": [],
   "source": [
    "selected_idx = json.load(open('pickles/train_idx_roberta-base_round1_rho0.01_gamma0.5_beta0.5_mu0.5_32.json'))\n",
    "\n",
    "selected_data = []\n",
    "for idx in selected_idx:\n",
    "    selected_data.append(corpus[idx])\n",
    "\n",
    "\n",
    "json.dump(selected_data,open('../data/data_proc/patron_selection/32.json','w'))"
   ],
   "metadata": {
    "collapsed": false,
    "ExecuteTime": {
     "end_time": "2025-09-06T01:33:48.361290Z",
     "start_time": "2025-09-06T01:33:48.358082Z"
    }
   }
  }
 ],
 "metadata": {
  "kernelspec": {
   "display_name": "Python 3",
   "language": "python",
   "name": "python3"
  },
  "language_info": {
   "codemirror_mode": {
    "name": "ipython",
    "version": 2
   },
   "file_extension": ".py",
   "mimetype": "text/x-python",
   "name": "python",
   "nbconvert_exporter": "python",
   "pygments_lexer": "ipython2",
   "version": "2.7.6"
  }
 },
 "nbformat": 4,
 "nbformat_minor": 0
}
