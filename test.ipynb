{
 "cells": [
  {
   "cell_type": "code",
   "execution_count": 60,
   "outputs": [],
   "source": [
    "import pickle\n",
    "import numpy as np\n",
    "\n",
    "# data = np.load('pickles/pred_unlabeled_llama-3b.npy',allow_pickle=True)\n",
    "# data"
   ],
   "metadata": {
    "collapsed": false,
    "ExecuteTime": {
     "end_time": "2025-09-28T00:37:22.805431Z",
     "start_time": "2025-09-28T00:37:22.803511Z"
    }
   }
  },
  {
   "cell_type": "code",
   "execution_count": 63,
   "outputs": [
    {
     "name": "stdout",
     "output_type": "stream",
     "text": [
      "(12000, 4)\n",
      "(12000, 4)\n",
      "(12000, 4)\n",
      "(12000, 4)\n"
     ]
    }
   ],
   "source": [
    "import json\n",
    "# test_model = 'Llama-3.2'\n",
    "# size = '3B'\n",
    "data_name = \"AGNews\"\n",
    "for model_name in [\"Llama-3.1-8B\",\"Llama-3.2-3B\",\"Qwen2.5-3B\",\"Qwen2.5-7B\"]:\n",
    "    data = json.load(open(f'../Patron/{data_name}/{data_name}-FullT-{model_name}-Test-12000-5-shot-log.json'))\n",
    "    probs = np.array(data['eval'][0]['pred_probs'])\n",
    "    # data = json.load(open(f'../Patron/{data_name}/FullT-{model_name}-Test-All-1799-log.json'))\n",
    "    # probs = np.array(data['train_eval'][0]['pred_probs'])\n",
    "    print(probs.shape)\n",
    "    probs.dump(open(f'../Patron/{data_name}/pred_unlabeled_{model_name}.npy','wb'))"
   ],
   "metadata": {
    "collapsed": false,
    "ExecuteTime": {
     "end_time": "2025-09-28T01:04:31.094739Z",
     "start_time": "2025-09-28T01:04:30.829897Z"
    }
   }
  },
  {
   "cell_type": "code",
   "execution_count": 64,
   "outputs": [],
   "source": [
    "import json\n",
    "import os\n",
    "corpus = json.load(open(f\"../data/{data_name}/proc_dev_data.json\"))"
   ],
   "metadata": {
    "collapsed": false,
    "ExecuteTime": {
     "end_time": "2025-09-28T01:16:28.144163Z",
     "start_time": "2025-09-28T01:16:28.061539Z"
    }
   }
  },
  {
   "cell_type": "code",
   "execution_count": 34,
   "outputs": [],
   "source": [],
   "metadata": {
    "collapsed": false,
    "ExecuteTime": {
     "end_time": "2025-09-05T21:21:45.506Z",
     "start_time": "2025-09-05T21:21:45.497041Z"
    }
   }
  },
  {
   "cell_type": "code",
   "execution_count": 65,
   "outputs": [],
   "source": [
    "for test_model in [\"Qwen2.5-3B\",\"Qwen2.5-7B\",\"Llama-3.2-3B\",\"Llama-3.1-8B\"]:\n",
    "    for num_shot in [5,10,20,30]:\n",
    "        if 'llama' in test_model and num_shot==500:\n",
    "            continue\n",
    "        os.makedirs(f\"../data/{data_name}/Patron/{test_model}-Instruct\", exist_ok=True)\n",
    "\n",
    "        selected_idx = json.load(open(f'./{data_name}/kmeans-train_idx_{test_model}-1_rho0.01_gamma0.5_beta0.5_mu0.5_{num_shot}.json'))\n",
    "        # selected_idx1 = json.load(open('pickles/train_idx_roberta-base_round1_rho0.01_gamma0.5_beta0.5_mu0.5_500.json'))\n",
    "\n",
    "        selected_data = []\n",
    "        for idx in selected_idx:\n",
    "            selected_data.append(corpus[idx])\n",
    "\n",
    "        json.dump(selected_data,open(f'../data/{data_name}/Patron/{test_model}-Instruct/{len(selected_data)}.json','w'))"
   ],
   "metadata": {
    "collapsed": false,
    "ExecuteTime": {
     "end_time": "2025-09-28T01:18:26.666383Z",
     "start_time": "2025-09-28T01:18:26.646121Z"
    }
   }
  },
  {
   "cell_type": "code",
   "execution_count": 41,
   "outputs": [],
   "source": [
    "# selected_idx = json.load(open('pickles/train_idx_roberta-base_round1_rho0.01_gamma0.5_beta0.5_mu0.5_32.json'))\n",
    "#\n",
    "# selected_data = []\n",
    "# for idx in selected_idx:\n",
    "#     selected_data.append(corpus[idx])\n",
    "#\n",
    "#\n",
    "# json.dump(selected_data,open('../data/data_proc/patron_selection/32.json','w'))"
   ],
   "metadata": {
    "collapsed": false,
    "ExecuteTime": {
     "end_time": "2025-09-24T01:17:43.194766Z",
     "start_time": "2025-09-24T01:17:43.187644Z"
    }
   }
  }
 ],
 "metadata": {
  "kernelspec": {
   "display_name": "Python 3",
   "language": "python",
   "name": "python3"
  },
  "language_info": {
   "codemirror_mode": {
    "name": "ipython",
    "version": 2
   },
   "file_extension": ".py",
   "mimetype": "text/x-python",
   "name": "python",
   "nbconvert_exporter": "python",
   "pygments_lexer": "ipython2",
   "version": "2.7.6"
  }
 },
 "nbformat": 4,
 "nbformat_minor": 0
}
