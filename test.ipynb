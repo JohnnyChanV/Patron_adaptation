{
 "cells": [
  {
   "cell_type": "code",
   "execution_count": 1,
   "outputs": [],
   "source": [
    "import pickle\n",
    "import numpy as np\n",
    "\n",
    "# data = np.load('pickles/pred_unlabeled_llama-3b.npy',allow_pickle=True)\n",
    "# data"
   ],
   "metadata": {
    "collapsed": false,
    "ExecuteTime": {
     "end_time": "2025-09-22T02:22:59.639054Z",
     "start_time": "2025-09-22T02:22:59.518162Z"
    }
   }
  },
  {
   "cell_type": "code",
   "execution_count": 29,
   "outputs": [
    {
     "name": "stdout",
     "output_type": "stream",
     "text": [
      "(5, 6)\n"
     ]
    }
   ],
   "source": [
    "import json\n",
    "test_model = 'Qwen2.5'\n",
    "size = '3B'\n",
    "data = json.load(open(f'../PromptTuning/entropy_log/FullT-{test_model}-{size}-TREC-Test-5452-log.json'))\n",
    "probs = np.array(data['eval'][0]['pred_probs'])\n",
    "print(probs.shape)\n",
    "probs.dump(open(f'../Patron/TREC/pred_unlabeled_{test_model}-{size}.npy','wb'))"
   ],
   "metadata": {
    "collapsed": false,
    "ExecuteTime": {
     "end_time": "2025-09-23T23:54:43.945779Z",
     "start_time": "2025-09-23T23:54:43.940864Z"
    }
   }
  },
  {
   "cell_type": "code",
   "execution_count": 19,
   "outputs": [],
   "source": [
    "import json\n",
    "import os\n",
    "corpus = json.load(open(\"../data/data_proc/proc_dev_data.json\"))"
   ],
   "metadata": {
    "collapsed": false,
    "ExecuteTime": {
     "end_time": "2025-09-22T03:03:15.152222Z",
     "start_time": "2025-09-22T03:03:15.138784Z"
    }
   }
  },
  {
   "cell_type": "code",
   "execution_count": 34,
   "outputs": [],
   "source": [],
   "metadata": {
    "collapsed": false,
    "ExecuteTime": {
     "end_time": "2025-09-05T21:21:45.506Z",
     "start_time": "2025-09-05T21:21:45.497041Z"
    }
   }
  },
  {
   "cell_type": "code",
   "execution_count": 21,
   "outputs": [],
   "source": [
    "for test_model in [\"Qwen2.5-3B\",\"Qwen2.5-7B\",\"llama-3b\",\"llama-8b\"]:\n",
    "    for num_shot in [5,10,20,500]:\n",
    "        if 'llama' in test_model and num_shot==500:\n",
    "            continue\n",
    "        os.makedirs(f\"../data/data_proc/few-shot_demo/patron_selection/{test_model}\", exist_ok=True)\n",
    "\n",
    "        selected_idx = json.load(open(f'explanation_dataset/kmeans-train_idx_{test_model}-1_rho0.01_gamma0.5_beta0.5_mu0.5_{num_shot}.json'))\n",
    "        # selected_idx1 = json.load(open('pickles/train_idx_roberta-base_round1_rho0.01_gamma0.5_beta0.5_mu0.5_500.json'))\n",
    "\n",
    "        selected_data = []\n",
    "        for idx in selected_idx:\n",
    "            selected_data.append(corpus[idx])\n",
    "\n",
    "        json.dump(selected_data,open(f'../data/data_proc/few-shot_demo/patron_selection/{test_model}/{len(selected_data)}.json','w'))"
   ],
   "metadata": {
    "collapsed": false,
    "ExecuteTime": {
     "end_time": "2025-09-22T03:04:54.722740Z",
     "start_time": "2025-09-22T03:04:54.704606Z"
    }
   }
  },
  {
   "cell_type": "code",
   "execution_count": 94,
   "outputs": [
    {
     "ename": "FileNotFoundError",
     "evalue": "[Errno 2] No such file or directory: 'pickles/train_idx_roberta-base_round1_rho0.01_gamma0.5_beta0.5_mu0.5_32.json'",
     "output_type": "error",
     "traceback": [
      "\u001B[0;31m---------------------------------------------------------------------------\u001B[0m",
      "\u001B[0;31mFileNotFoundError\u001B[0m                         Traceback (most recent call last)",
      "Cell \u001B[0;32mIn[94], line 1\u001B[0m\n\u001B[0;32m----> 1\u001B[0m selected_idx \u001B[38;5;241m=\u001B[39m json\u001B[38;5;241m.\u001B[39mload(\u001B[38;5;28mopen\u001B[39m(\u001B[38;5;124m'\u001B[39m\u001B[38;5;124mpickles/train_idx_roberta-base_round1_rho0.01_gamma0.5_beta0.5_mu0.5_32.json\u001B[39m\u001B[38;5;124m'\u001B[39m))\n\u001B[1;32m      3\u001B[0m selected_data \u001B[38;5;241m=\u001B[39m []\n\u001B[1;32m      4\u001B[0m \u001B[38;5;28;01mfor\u001B[39;00m idx \u001B[38;5;129;01min\u001B[39;00m selected_idx:\n",
      "File \u001B[0;32m/opt/homebrew/anaconda3/lib/python3.11/site-packages/IPython/core/interactiveshell.py:284\u001B[0m, in \u001B[0;36m_modified_open\u001B[0;34m(file, *args, **kwargs)\u001B[0m\n\u001B[1;32m    277\u001B[0m \u001B[38;5;28;01mif\u001B[39;00m file \u001B[38;5;129;01min\u001B[39;00m {\u001B[38;5;241m0\u001B[39m, \u001B[38;5;241m1\u001B[39m, \u001B[38;5;241m2\u001B[39m}:\n\u001B[1;32m    278\u001B[0m     \u001B[38;5;28;01mraise\u001B[39;00m \u001B[38;5;167;01mValueError\u001B[39;00m(\n\u001B[1;32m    279\u001B[0m         \u001B[38;5;124mf\u001B[39m\u001B[38;5;124m\"\u001B[39m\u001B[38;5;124mIPython won\u001B[39m\u001B[38;5;124m'\u001B[39m\u001B[38;5;124mt let you open fd=\u001B[39m\u001B[38;5;132;01m{\u001B[39;00mfile\u001B[38;5;132;01m}\u001B[39;00m\u001B[38;5;124m by default \u001B[39m\u001B[38;5;124m\"\u001B[39m\n\u001B[1;32m    280\u001B[0m         \u001B[38;5;124m\"\u001B[39m\u001B[38;5;124mas it is likely to crash IPython. If you know what you are doing, \u001B[39m\u001B[38;5;124m\"\u001B[39m\n\u001B[1;32m    281\u001B[0m         \u001B[38;5;124m\"\u001B[39m\u001B[38;5;124myou can use builtins\u001B[39m\u001B[38;5;124m'\u001B[39m\u001B[38;5;124m open.\u001B[39m\u001B[38;5;124m\"\u001B[39m\n\u001B[1;32m    282\u001B[0m     )\n\u001B[0;32m--> 284\u001B[0m \u001B[38;5;28;01mreturn\u001B[39;00m io_open(file, \u001B[38;5;241m*\u001B[39margs, \u001B[38;5;241m*\u001B[39m\u001B[38;5;241m*\u001B[39mkwargs)\n",
      "\u001B[0;31mFileNotFoundError\u001B[0m: [Errno 2] No such file or directory: 'pickles/train_idx_roberta-base_round1_rho0.01_gamma0.5_beta0.5_mu0.5_32.json'"
     ]
    }
   ],
   "source": [
    "selected_idx = json.load(open('pickles/train_idx_roberta-base_round1_rho0.01_gamma0.5_beta0.5_mu0.5_32.json'))\n",
    "\n",
    "selected_data = []\n",
    "for idx in selected_idx:\n",
    "    selected_data.append(corpus[idx])\n",
    "\n",
    "\n",
    "json.dump(selected_data,open('../data/data_proc/patron_selection/32.json','w'))"
   ],
   "metadata": {
    "collapsed": false,
    "ExecuteTime": {
     "end_time": "2025-09-07T15:58:55.909094Z",
     "start_time": "2025-09-07T15:58:55.881240Z"
    }
   }
  }
 ],
 "metadata": {
  "kernelspec": {
   "display_name": "Python 3",
   "language": "python",
   "name": "python3"
  },
  "language_info": {
   "codemirror_mode": {
    "name": "ipython",
    "version": 2
   },
   "file_extension": ".py",
   "mimetype": "text/x-python",
   "name": "python",
   "nbconvert_exporter": "python",
   "pygments_lexer": "ipython2",
   "version": "2.7.6"
  }
 },
 "nbformat": 4,
 "nbformat_minor": 0
}
