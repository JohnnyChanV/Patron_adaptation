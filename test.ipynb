{
 "cells": [
  {
   "cell_type": "code",
   "execution_count": 1,
   "outputs": [],
   "source": [
    "import pickle\n",
    "import numpy as np\n",
    "\n",
    "# data = np.load('pickles/pred_unlabeled_llama-3b.npy',allow_pickle=True)\n",
    "# data"
   ],
   "metadata": {
    "collapsed": false,
    "ExecuteTime": {
     "end_time": "2025-09-22T02:22:59.639054Z",
     "start_time": "2025-09-22T02:22:59.518162Z"
    }
   }
  },
  {
   "cell_type": "code",
   "execution_count": 51,
   "outputs": [
    {
     "name": "stdout",
     "output_type": "stream",
     "text": [
      "(1799, 2)\n",
      "(1799, 2)\n",
      "(1799, 2)\n",
      "(1799, 2)\n"
     ]
    }
   ],
   "source": [
    "import json\n",
    "test_model = 'Llama-3.2'\n",
    "size = '3B'\n",
    "data_name = \"data_proc\"\n",
    "for model_name in [\"Llama-3.1-8B\",\"Llama-3.2-3B\",\"Qwen2.5-3B\",\"Qwen2.5-7B\"]:\n",
    "    # data = json.load(open(f'../Patron/TREC/FullT-{model_name}-TREC-Test-5452-log.json'))\n",
    "    # probs = np.array(data['eval'][0]['pred_probs'])\n",
    "    data = json.load(open(f'../Patron/{data_name}/FullT-{model_name}-Test-All-1799-log.json'))\n",
    "    probs = np.array(data['train_eval'][0]['pred_probs'])\n",
    "    print(probs.shape)\n",
    "    probs.dump(open(f'../Patron/{data_name}/pred_unlabeled_{model_name}.npy','wb'))"
   ],
   "metadata": {
    "collapsed": false,
    "ExecuteTime": {
     "end_time": "2025-09-24T21:37:03.452313Z",
     "start_time": "2025-09-24T21:37:03.431324Z"
    }
   }
  },
  {
   "cell_type": "code",
   "execution_count": 52,
   "outputs": [],
   "source": [
    "import json\n",
    "import os\n",
    "corpus = json.load(open(f\"../data/{data_name}/proc_dev_data.json\"))"
   ],
   "metadata": {
    "collapsed": false,
    "ExecuteTime": {
     "end_time": "2025-09-24T21:37:05.267623Z",
     "start_time": "2025-09-24T21:37:05.262585Z"
    }
   }
  },
  {
   "cell_type": "code",
   "execution_count": 34,
   "outputs": [],
   "source": [],
   "metadata": {
    "collapsed": false,
    "ExecuteTime": {
     "end_time": "2025-09-05T21:21:45.506Z",
     "start_time": "2025-09-05T21:21:45.497041Z"
    }
   }
  },
  {
   "cell_type": "code",
   "execution_count": 55,
   "outputs": [
    {
     "ename": "FileNotFoundError",
     "evalue": "[Errno 2] No such file or directory: './data_proc/kmeans-train_idx_Llama-3.1-8B-1_rho0.01_gamma0.5_beta0.5_mu0.5_500.json'",
     "output_type": "error",
     "traceback": [
      "\u001B[0;31m---------------------------------------------------------------------------\u001B[0m",
      "\u001B[0;31mFileNotFoundError\u001B[0m                         Traceback (most recent call last)",
      "Cell \u001B[0;32mIn[55], line 7\u001B[0m\n\u001B[1;32m      4\u001B[0m     \u001B[38;5;28;01mcontinue\u001B[39;00m\n\u001B[1;32m      5\u001B[0m os\u001B[38;5;241m.\u001B[39mmakedirs(\u001B[38;5;124mf\u001B[39m\u001B[38;5;124m\"\u001B[39m\u001B[38;5;124m../data/\u001B[39m\u001B[38;5;132;01m{\u001B[39;00mdata_name\u001B[38;5;132;01m}\u001B[39;00m\u001B[38;5;124m/Patron/\u001B[39m\u001B[38;5;132;01m{\u001B[39;00mtest_model\u001B[38;5;132;01m}\u001B[39;00m\u001B[38;5;124m\"\u001B[39m, exist_ok\u001B[38;5;241m=\u001B[39m\u001B[38;5;28;01mTrue\u001B[39;00m)\n\u001B[0;32m----> 7\u001B[0m selected_idx \u001B[38;5;241m=\u001B[39m json\u001B[38;5;241m.\u001B[39mload(\u001B[38;5;28mopen\u001B[39m(\u001B[38;5;124mf\u001B[39m\u001B[38;5;124m'\u001B[39m\u001B[38;5;124m./\u001B[39m\u001B[38;5;132;01m{\u001B[39;00mdata_name\u001B[38;5;132;01m}\u001B[39;00m\u001B[38;5;124m/kmeans-train_idx_\u001B[39m\u001B[38;5;132;01m{\u001B[39;00mtest_model\u001B[38;5;132;01m}\u001B[39;00m\u001B[38;5;124m-1_rho0.01_gamma0.5_beta0.5_mu0.5_\u001B[39m\u001B[38;5;132;01m{\u001B[39;00mnum_shot\u001B[38;5;132;01m}\u001B[39;00m\u001B[38;5;124m.json\u001B[39m\u001B[38;5;124m'\u001B[39m))\n\u001B[1;32m      8\u001B[0m \u001B[38;5;66;03m# selected_idx1 = json.load(open('pickles/train_idx_roberta-base_round1_rho0.01_gamma0.5_beta0.5_mu0.5_500.json'))\u001B[39;00m\n\u001B[1;32m     10\u001B[0m selected_data \u001B[38;5;241m=\u001B[39m []\n",
      "File \u001B[0;32m/opt/homebrew/anaconda3/lib/python3.11/site-packages/IPython/core/interactiveshell.py:284\u001B[0m, in \u001B[0;36m_modified_open\u001B[0;34m(file, *args, **kwargs)\u001B[0m\n\u001B[1;32m    277\u001B[0m \u001B[38;5;28;01mif\u001B[39;00m file \u001B[38;5;129;01min\u001B[39;00m {\u001B[38;5;241m0\u001B[39m, \u001B[38;5;241m1\u001B[39m, \u001B[38;5;241m2\u001B[39m}:\n\u001B[1;32m    278\u001B[0m     \u001B[38;5;28;01mraise\u001B[39;00m \u001B[38;5;167;01mValueError\u001B[39;00m(\n\u001B[1;32m    279\u001B[0m         \u001B[38;5;124mf\u001B[39m\u001B[38;5;124m\"\u001B[39m\u001B[38;5;124mIPython won\u001B[39m\u001B[38;5;124m'\u001B[39m\u001B[38;5;124mt let you open fd=\u001B[39m\u001B[38;5;132;01m{\u001B[39;00mfile\u001B[38;5;132;01m}\u001B[39;00m\u001B[38;5;124m by default \u001B[39m\u001B[38;5;124m\"\u001B[39m\n\u001B[1;32m    280\u001B[0m         \u001B[38;5;124m\"\u001B[39m\u001B[38;5;124mas it is likely to crash IPython. If you know what you are doing, \u001B[39m\u001B[38;5;124m\"\u001B[39m\n\u001B[1;32m    281\u001B[0m         \u001B[38;5;124m\"\u001B[39m\u001B[38;5;124myou can use builtins\u001B[39m\u001B[38;5;124m'\u001B[39m\u001B[38;5;124m open.\u001B[39m\u001B[38;5;124m\"\u001B[39m\n\u001B[1;32m    282\u001B[0m     )\n\u001B[0;32m--> 284\u001B[0m \u001B[38;5;28;01mreturn\u001B[39;00m io_open(file, \u001B[38;5;241m*\u001B[39margs, \u001B[38;5;241m*\u001B[39m\u001B[38;5;241m*\u001B[39mkwargs)\n",
      "\u001B[0;31mFileNotFoundError\u001B[0m: [Errno 2] No such file or directory: './data_proc/kmeans-train_idx_Llama-3.1-8B-1_rho0.01_gamma0.5_beta0.5_mu0.5_500.json'"
     ]
    }
   ],
   "source": [
    "for test_model in [\"Qwen2.5-3B\",\"Qwen2.5-7B\",\"Llama-3.2-3B\",\"Llama-3.1-8B\"]:\n",
    "    for num_shot in [5,10,20,30,100,200,300,400,500]:\n",
    "        if 'llama' in test_model and num_shot==500:\n",
    "            continue\n",
    "        os.makedirs(f\"../data/{data_name}/Patron/{test_model}\", exist_ok=True)\n",
    "\n",
    "        selected_idx = json.load(open(f'./{data_name}/kmeans-train_idx_{test_model}-1_rho0.01_gamma0.5_beta0.5_mu0.5_{num_shot}.json'))\n",
    "        # selected_idx1 = json.load(open('pickles/train_idx_roberta-base_round1_rho0.01_gamma0.5_beta0.5_mu0.5_500.json'))\n",
    "\n",
    "        selected_data = []\n",
    "        for idx in selected_idx:\n",
    "            selected_data.append(corpus[idx])\n",
    "\n",
    "        json.dump(selected_data,open(f'../data/{data_name}/Patron/{test_model}/{len(selected_data)}.json','w'))"
   ],
   "metadata": {
    "collapsed": false,
    "ExecuteTime": {
     "end_time": "2025-09-24T21:38:04.850574Z",
     "start_time": "2025-09-24T21:38:04.787483Z"
    }
   }
  },
  {
   "cell_type": "code",
   "execution_count": 41,
   "outputs": [],
   "source": [
    "# selected_idx = json.load(open('pickles/train_idx_roberta-base_round1_rho0.01_gamma0.5_beta0.5_mu0.5_32.json'))\n",
    "#\n",
    "# selected_data = []\n",
    "# for idx in selected_idx:\n",
    "#     selected_data.append(corpus[idx])\n",
    "#\n",
    "#\n",
    "# json.dump(selected_data,open('../data/data_proc/patron_selection/32.json','w'))"
   ],
   "metadata": {
    "collapsed": false,
    "ExecuteTime": {
     "end_time": "2025-09-24T01:17:43.194766Z",
     "start_time": "2025-09-24T01:17:43.187644Z"
    }
   }
  }
 ],
 "metadata": {
  "kernelspec": {
   "display_name": "Python 3",
   "language": "python",
   "name": "python3"
  },
  "language_info": {
   "codemirror_mode": {
    "name": "ipython",
    "version": 2
   },
   "file_extension": ".py",
   "mimetype": "text/x-python",
   "name": "python",
   "nbconvert_exporter": "python",
   "pygments_lexer": "ipython2",
   "version": "2.7.6"
  }
 },
 "nbformat": 4,
 "nbformat_minor": 0
}
