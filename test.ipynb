{
 "cells": [
  {
   "cell_type": "code",
   "execution_count": 3,
   "outputs": [
    {
     "data": {
      "text/plain": "array([[0.89854419, 0.10145583],\n       [0.23335676, 0.76664323],\n       [0.40686199, 0.59313804],\n       ...,\n       [0.23331308, 0.76668686],\n       [0.66551924, 0.33448073],\n       [0.17306097, 0.82693899]])"
     },
     "execution_count": 3,
     "metadata": {},
     "output_type": "execute_result"
    }
   ],
   "source": [
    "import pickle\n",
    "import numpy as np\n",
    "\n",
    "data = np.load('pickles/pred_unlabeled_llama-3b.npy',allow_pickle=True)\n",
    "data"
   ],
   "metadata": {
    "collapsed": false,
    "ExecuteTime": {
     "end_time": "2025-09-09T18:42:10.058642Z",
     "start_time": "2025-09-09T18:42:10.055148Z"
    }
   }
  },
  {
   "cell_type": "code",
   "execution_count": 96,
   "outputs": [
    {
     "name": "stdout",
     "output_type": "stream",
     "text": [
      "(1799, 2)\n"
     ]
    }
   ],
   "source": [
    "import json\n",
    "data = json.load(open('../PromptTuning/entropy_log/Test-FullT-Llama-3B-all-bs4-lr.1e5.v2-1799-log.json'))\n",
    "probs = np.array(data['train_eval'][0]['pred_probs'])\n",
    "print(probs.shape)\n",
    "probs.dump(open('../Patron/pickles/pred_unlabeled_llama-8b.npy','wb'))"
   ],
   "metadata": {
    "collapsed": false,
    "ExecuteTime": {
     "end_time": "2025-09-07T15:59:05.390195Z",
     "start_time": "2025-09-07T15:59:05.380192Z"
    }
   }
  },
  {
   "cell_type": "code",
   "execution_count": 6,
   "outputs": [],
   "source": [
    "import json\n",
    "corpus = json.load(open(\"../data/data_proc/proc_dev_data.json\"))"
   ],
   "metadata": {
    "collapsed": false,
    "ExecuteTime": {
     "end_time": "2025-09-09T18:42:51.948055Z",
     "start_time": "2025-09-09T18:42:51.942812Z"
    }
   }
  },
  {
   "cell_type": "code",
   "execution_count": 32,
   "outputs": [],
   "source": [
    "# with open('../Patron/pickles/proc_dev_data.jsonl', 'a', encoding='utf-8') as f:\n",
    "#     for item in corpus:\n",
    "#         formatted_item = {\n",
    "#             '_id':item['label'],\n",
    "#             'text':item['Comment']\n",
    "#         }\n",
    "#         json.dump(formatted_item,f)\n",
    "#         f.write('\\n')  # 手动换行\n",
    "#\n",
    "#\n",
    "#\n",
    "#\n"
   ],
   "metadata": {
    "collapsed": false,
    "ExecuteTime": {
     "end_time": "2025-09-05T20:49:49.621012Z",
     "start_time": "2025-09-05T20:49:49.605427Z"
    }
   }
  },
  {
   "cell_type": "code",
   "execution_count": 34,
   "outputs": [],
   "source": [],
   "metadata": {
    "collapsed": false,
    "ExecuteTime": {
     "end_time": "2025-09-05T21:21:45.506Z",
     "start_time": "2025-09-05T21:21:45.497041Z"
    }
   }
  },
  {
   "cell_type": "code",
   "execution_count": 7,
   "outputs": [],
   "source": [
    "import json\n",
    "selected_idx = json.load(open('pickles/kmeans-train_idx_llama-3b-1_rho0.01_gamma0.5_beta0.5_mu0.5_500.json'))\n",
    "# selected_idx1 = json.load(open('pickles/train_idx_roberta-base_round1_rho0.01_gamma0.5_beta0.5_mu0.5_500.json'))\n",
    "\n",
    "selected_data = []\n",
    "for idx in selected_idx:\n",
    "    selected_data.append(corpus[idx])\n",
    "\n",
    "json.dump(selected_data,open('../data/data_proc/patron_selection/kmeans-3b-500.json','w'))"
   ],
   "metadata": {
    "collapsed": false,
    "ExecuteTime": {
     "end_time": "2025-09-09T18:43:06.297630Z",
     "start_time": "2025-09-09T18:43:06.291957Z"
    }
   }
  },
  {
   "cell_type": "code",
   "execution_count": 94,
   "outputs": [
    {
     "ename": "FileNotFoundError",
     "evalue": "[Errno 2] No such file or directory: 'pickles/train_idx_roberta-base_round1_rho0.01_gamma0.5_beta0.5_mu0.5_32.json'",
     "output_type": "error",
     "traceback": [
      "\u001B[0;31m---------------------------------------------------------------------------\u001B[0m",
      "\u001B[0;31mFileNotFoundError\u001B[0m                         Traceback (most recent call last)",
      "Cell \u001B[0;32mIn[94], line 1\u001B[0m\n\u001B[0;32m----> 1\u001B[0m selected_idx \u001B[38;5;241m=\u001B[39m json\u001B[38;5;241m.\u001B[39mload(\u001B[38;5;28mopen\u001B[39m(\u001B[38;5;124m'\u001B[39m\u001B[38;5;124mpickles/train_idx_roberta-base_round1_rho0.01_gamma0.5_beta0.5_mu0.5_32.json\u001B[39m\u001B[38;5;124m'\u001B[39m))\n\u001B[1;32m      3\u001B[0m selected_data \u001B[38;5;241m=\u001B[39m []\n\u001B[1;32m      4\u001B[0m \u001B[38;5;28;01mfor\u001B[39;00m idx \u001B[38;5;129;01min\u001B[39;00m selected_idx:\n",
      "File \u001B[0;32m/opt/homebrew/anaconda3/lib/python3.11/site-packages/IPython/core/interactiveshell.py:284\u001B[0m, in \u001B[0;36m_modified_open\u001B[0;34m(file, *args, **kwargs)\u001B[0m\n\u001B[1;32m    277\u001B[0m \u001B[38;5;28;01mif\u001B[39;00m file \u001B[38;5;129;01min\u001B[39;00m {\u001B[38;5;241m0\u001B[39m, \u001B[38;5;241m1\u001B[39m, \u001B[38;5;241m2\u001B[39m}:\n\u001B[1;32m    278\u001B[0m     \u001B[38;5;28;01mraise\u001B[39;00m \u001B[38;5;167;01mValueError\u001B[39;00m(\n\u001B[1;32m    279\u001B[0m         \u001B[38;5;124mf\u001B[39m\u001B[38;5;124m\"\u001B[39m\u001B[38;5;124mIPython won\u001B[39m\u001B[38;5;124m'\u001B[39m\u001B[38;5;124mt let you open fd=\u001B[39m\u001B[38;5;132;01m{\u001B[39;00mfile\u001B[38;5;132;01m}\u001B[39;00m\u001B[38;5;124m by default \u001B[39m\u001B[38;5;124m\"\u001B[39m\n\u001B[1;32m    280\u001B[0m         \u001B[38;5;124m\"\u001B[39m\u001B[38;5;124mas it is likely to crash IPython. If you know what you are doing, \u001B[39m\u001B[38;5;124m\"\u001B[39m\n\u001B[1;32m    281\u001B[0m         \u001B[38;5;124m\"\u001B[39m\u001B[38;5;124myou can use builtins\u001B[39m\u001B[38;5;124m'\u001B[39m\u001B[38;5;124m open.\u001B[39m\u001B[38;5;124m\"\u001B[39m\n\u001B[1;32m    282\u001B[0m     )\n\u001B[0;32m--> 284\u001B[0m \u001B[38;5;28;01mreturn\u001B[39;00m io_open(file, \u001B[38;5;241m*\u001B[39margs, \u001B[38;5;241m*\u001B[39m\u001B[38;5;241m*\u001B[39mkwargs)\n",
      "\u001B[0;31mFileNotFoundError\u001B[0m: [Errno 2] No such file or directory: 'pickles/train_idx_roberta-base_round1_rho0.01_gamma0.5_beta0.5_mu0.5_32.json'"
     ]
    }
   ],
   "source": [
    "selected_idx = json.load(open('pickles/train_idx_roberta-base_round1_rho0.01_gamma0.5_beta0.5_mu0.5_32.json'))\n",
    "\n",
    "selected_data = []\n",
    "for idx in selected_idx:\n",
    "    selected_data.append(corpus[idx])\n",
    "\n",
    "\n",
    "json.dump(selected_data,open('../data/data_proc/patron_selection/32.json','w'))"
   ],
   "metadata": {
    "collapsed": false,
    "ExecuteTime": {
     "end_time": "2025-09-07T15:58:55.909094Z",
     "start_time": "2025-09-07T15:58:55.881240Z"
    }
   }
  }
 ],
 "metadata": {
  "kernelspec": {
   "display_name": "Python 3",
   "language": "python",
   "name": "python3"
  },
  "language_info": {
   "codemirror_mode": {
    "name": "ipython",
    "version": 2
   },
   "file_extension": ".py",
   "mimetype": "text/x-python",
   "name": "python",
   "nbconvert_exporter": "python",
   "pygments_lexer": "ipython2",
   "version": "2.7.6"
  }
 },
 "nbformat": 4,
 "nbformat_minor": 0
}
