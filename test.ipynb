{
 "cells": [
  {
   "cell_type": "code",
   "execution_count": 1,
   "outputs": [],
   "source": [
    "import pickle\n",
    "import numpy as np\n",
    "\n",
    "# data = np.load('pickles/pred_unlabeled_llama-3b.npy',allow_pickle=True)\n",
    "# data"
   ],
   "metadata": {
    "collapsed": false,
    "ExecuteTime": {
     "end_time": "2025-09-22T02:22:59.639054Z",
     "start_time": "2025-09-22T02:22:59.518162Z"
    }
   }
  },
  {
   "cell_type": "code",
   "execution_count": 56,
   "outputs": [
    {
     "name": "stdout",
     "output_type": "stream",
     "text": [
      "(5452, 6)\n",
      "(5452, 6)\n",
      "(5452, 6)\n",
      "(5452, 6)\n"
     ]
    }
   ],
   "source": [
    "import json\n",
    "test_model = 'Llama-3.2'\n",
    "size = '3B'\n",
    "data_name = \"TREC\"\n",
    "for model_name in [\"Llama-3.1-8B\",\"Llama-3.2-3B\",\"Qwen2.5-3B\",\"Qwen2.5-7B\"]:\n",
    "    data = json.load(open(f'../Patron/TREC/FullT-{model_name}-TREC-Test-5452-log.json'))\n",
    "    probs = np.array(data['eval'][0]['pred_probs'])\n",
    "    # data = json.load(open(f'../Patron/{data_name}/FullT-{model_name}-Test-All-1799-log.json'))\n",
    "    # probs = np.array(data['train_eval'][0]['pred_probs'])\n",
    "    print(probs.shape)\n",
    "    probs.dump(open(f'../Patron/{data_name}/pred_unlabeled_{model_name}.npy','wb'))"
   ],
   "metadata": {
    "collapsed": false,
    "ExecuteTime": {
     "end_time": "2025-09-24T21:41:10.624232Z",
     "start_time": "2025-09-24T21:41:10.587108Z"
    }
   }
  },
  {
   "cell_type": "code",
   "execution_count": 57,
   "outputs": [],
   "source": [
    "import json\n",
    "import os\n",
    "corpus = json.load(open(f\"../data/{data_name}/proc_dev_data.json\"))"
   ],
   "metadata": {
    "collapsed": false,
    "ExecuteTime": {
     "end_time": "2025-09-24T21:41:12.178392Z",
     "start_time": "2025-09-24T21:41:12.173021Z"
    }
   }
  },
  {
   "cell_type": "code",
   "execution_count": 34,
   "outputs": [],
   "source": [],
   "metadata": {
    "collapsed": false,
    "ExecuteTime": {
     "end_time": "2025-09-05T21:21:45.506Z",
     "start_time": "2025-09-05T21:21:45.497041Z"
    }
   }
  },
  {
   "cell_type": "code",
   "execution_count": 59,
   "outputs": [],
   "source": [
    "for test_model in [\"Qwen2.5-3B\",\"Qwen2.5-7B\",\"Llama-3.2-3B\",\"Llama-3.1-8B\"]:\n",
    "    for num_shot in [5,10,20,30,100,200,300,400,500]:\n",
    "        if 'llama' in test_model and num_shot==500:\n",
    "            continue\n",
    "        os.makedirs(f\"../data/{data_name}/Patron/{test_model}-Instruct\", exist_ok=True)\n",
    "\n",
    "        selected_idx = json.load(open(f'./{data_name}/kmeans-train_idx_{test_model}-1_rho0.01_gamma0.5_beta0.5_mu0.5_{num_shot}.json'))\n",
    "        # selected_idx1 = json.load(open('pickles/train_idx_roberta-base_round1_rho0.01_gamma0.5_beta0.5_mu0.5_500.json'))\n",
    "\n",
    "        selected_data = []\n",
    "        for idx in selected_idx:\n",
    "            selected_data.append(corpus[idx])\n",
    "\n",
    "        json.dump(selected_data,open(f'../data/{data_name}/Patron/{test_model}-Instruct/{len(selected_data)}.json','w'))"
   ],
   "metadata": {
    "collapsed": false,
    "ExecuteTime": {
     "end_time": "2025-09-24T21:41:37.237802Z",
     "start_time": "2025-09-24T21:41:37.210276Z"
    }
   }
  },
  {
   "cell_type": "code",
   "execution_count": 41,
   "outputs": [],
   "source": [
    "# selected_idx = json.load(open('pickles/train_idx_roberta-base_round1_rho0.01_gamma0.5_beta0.5_mu0.5_32.json'))\n",
    "#\n",
    "# selected_data = []\n",
    "# for idx in selected_idx:\n",
    "#     selected_data.append(corpus[idx])\n",
    "#\n",
    "#\n",
    "# json.dump(selected_data,open('../data/data_proc/patron_selection/32.json','w'))"
   ],
   "metadata": {
    "collapsed": false,
    "ExecuteTime": {
     "end_time": "2025-09-24T01:17:43.194766Z",
     "start_time": "2025-09-24T01:17:43.187644Z"
    }
   }
  }
 ],
 "metadata": {
  "kernelspec": {
   "display_name": "Python 3",
   "language": "python",
   "name": "python3"
  },
  "language_info": {
   "codemirror_mode": {
    "name": "ipython",
    "version": 2
   },
   "file_extension": ".py",
   "mimetype": "text/x-python",
   "name": "python",
   "nbconvert_exporter": "python",
   "pygments_lexer": "ipython2",
   "version": "2.7.6"
  }
 },
 "nbformat": 4,
 "nbformat_minor": 0
}
